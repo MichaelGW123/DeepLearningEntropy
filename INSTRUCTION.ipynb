{
 "cells": [
  {
   "cell_type": "markdown",
   "source": [
    "The only part that needs adjusting is line 12 to 23. This is what the lines should be when you are running the code."
   ],
   "metadata": {}
  },
  {
   "cell_type": "code",
   "execution_count": null,
   "source": [
    "# Importing the training set\r\n",
    "specificFile = 'words55to60'\r\n",
    "# Flag for if training or generating\r\n",
    "training = False\r\n",
    "# Flags for if code will be running on its own to save run data and turn off computer\r\n",
    "away = True\r\n",
    "turnOff = True\r\n",
    "# Flag for saving a specific weight from the training checkpoints if model deteriorates\r\n",
    "saveNewWeight = False\r\n",
    "EPOCHS = 8\r\n",
    "# Variable for array of starter words (Increasing reduces time but increases computational load)\r\n",
    "number_of_lines = 1000"
   ],
   "outputs": [],
   "metadata": {}
  },
  {
   "cell_type": "markdown",
   "source": [
    "However, for what I need you to do you only need to change line 13 and 21"
   ],
   "metadata": {}
  },
  {
   "cell_type": "code",
   "execution_count": null,
   "source": [
    "specificFile = 'words55to60'\r\n",
    "\r\n",
    "EPOCHS = 8"
   ],
   "outputs": [],
   "metadata": {}
  },
  {
   "cell_type": "markdown",
   "source": [
    "The only combos you need to worry about are listed below in the format of {specificFile}, {EPOCHS}. Preferably mark off down below which are done by adding DONE after the EPOCH, and begin with 40to45 through 50to55 (I did 35to40 yesterday, it takes about 14 hours to run, so you might just have to do it once a day)."
   ],
   "metadata": {}
  },
  {
   "cell_type": "markdown",
   "source": [
    "wordslessthan20, 16 \r\n",
    "words20to25, 16\r\n",
    "words25to30, 16\r\n",
    "words30to35, 16\r\n",
    "words35to40, 8 DONE\r\n",
    "words40to45, 6 DONE\r\n",
    "words45to50, 6 DONE\r\n",
    "words50to55, 8\r\n",
    "words55to60, 10\r\n",
    "words60to65, 16\r\n",
    "words65to70, 16\r\n",
    "words70to80, 16\r\n",
    "words80to90, 16\r\n",
    "words90to100, 16"
   ],
   "metadata": {}
  }
 ],
 "metadata": {
  "orig_nbformat": 4,
  "language_info": {
   "name": "python"
  }
 },
 "nbformat": 4,
 "nbformat_minor": 2
}